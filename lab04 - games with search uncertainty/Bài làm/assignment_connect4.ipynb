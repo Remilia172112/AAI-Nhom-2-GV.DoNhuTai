{
 "cells": [
  {
   "cell_type": "markdown",
   "metadata": {},
   "source": [
    "# Adversarial Search: Playing Connect 4\n",
    "\n",
    "Student Name: [Add your name]\n",
    "\n",
    "I have used the following AI tools: [list tools]\n",
    "\n",
    "I understand that my submission needs to be my own work: [your initials]"
   ]
  },
  {
   "cell_type": "markdown",
   "metadata": {},
   "source": [
    "## Learning Outcomes\n",
    "\n",
    "* Implement adversarial search algorithms for strategic game play.\n",
    "* Analyze and optimize search in complex game spaces.\n",
    "* Design effective heuristic evaluation functions.\n",
    "* Compare performance across different agent strategies.\n",
    "* Evaluate algorithmic trade-offs between decision quality and efficiency."
   ]
  },
  {
   "cell_type": "markdown",
   "metadata": {},
   "source": [
    "## Instructions\n",
    "\n",
    "Total Points: Undergraduates 100, graduate students 110\n",
    "\n",
    "Complete this notebook and submit it. The notebook needs to be a complete project report with your implementation, documentation including a short discussion of how your implementation works and your design choices, and experimental results (e.g., tables and charts with simulation results) with a short discussion of what they mean. Use the provided notebook cells and insert additional code and markdown cells as needed. Submit the completely rendered notebook as a HTML file. \n",
    "\n",
    "\n",
    "## Introduction\n",
    "\n",
    "You will implement different versions of agents that play Connect 4:\n",
    "\n",
    "> \"Connect 4 is a two-player connection board game, in which the players choose a color and then take turns dropping colored discs into a seven-column, six-row vertically suspended grid. The pieces fall straight down, occupying the lowest available space within the column. The objective of the game is to be the first to form a horizontal, vertical, or diagonal line of four of one's own discs.\" (see [Connect Four on Wikipedia](https://en.wikipedia.org/wiki/Connect_Four))\n",
    "\n",
    "Note that [Connect-4 has been solved](https://en.wikipedia.org/wiki/Connect_Four#Mathematical_solution)\n",
    "in 1988. A connect-4 solver with a discussion of how to solve different parts of the problem can be found here: https://connect4.gamesolver.org/en/"
   ]
  },
  {
   "cell_type": "markdown",
   "metadata": {},
   "source": [
    "## Task 1: Defining the Search Problem [10 point]\n",
    "\n",
    "Define the components of the search problem:\n",
    "\n",
    "* Initial state\n",
    "* Actions\n",
    "* Transition model (result function)\n",
    "* Goal state (terminal state and utility)\n",
    "\n",
    "Describe each component and then implement it as a function that can be used by search algorithms."
   ]
  },
  {
   "cell_type": "code",
   "execution_count": 9,
   "metadata": {},
   "outputs": [],
   "source": [
    "# Task 1: Định nghĩa bài toán tìm kiếm cho Connect4\n",
    "# Định nghĩa: trạng thái là một mảng numpy kích thước (rows, cols) chứa 0 (ô trống), 1 (player red) hoặc -1 (player yellow).\n",
    "# Initial state: empty_board(rows, cols) trả về trạng thái ban đầu.\n",
    "# Actions: một hành động là chỉ số cột (0..cols-1) nơi đặt đĩa; hành động hợp lệ nếu cột đó chưa đầy.\n",
    "# Result(state, player, action): trả về bản sao của state sau khi player thả đĩa vào action.\n",
    "# Terminal(state): kiểm tra xem có người thắng hoặc bảng đầy (hòa).\n",
    "# Utility(state, player): trả về +1 nếu player thắng, -1 nếu thua, 0 nếu hòa hoặc không kết thúc.\n",
    "import numpy as np\n",
    "from typing import Tuple, List\n",
    "\n",
    "def empty_board(rows: int = 6, cols: int = 7) -> np.ndarray:\n",
    "    \"\"\"Trả về bảng rỗng kích thước rows x cols (0 = empty).\n",
    "    Thích hợp cho mọi kích thước bảng để thử nghiệm.\n",
    "    \"\"\"\n",
    "    return np.zeros((rows, cols), dtype=int)\n",
    "\n",
    "def initial_state(rows: int = 6, cols: int = 7) -> np.ndarray:\n",
    "    \"\"\"Alias cho empty_board để biểu diễn trạng thái khởi tạo.\n",
    "    \"\"\"\n",
    "    return empty_board(rows, cols)\n",
    "\n",
    "def valid_actions(state: np.ndarray) -> List[int]:\n",
    "    \"\"\"Trả về danh sách các cột (int) có thể đặt đĩa (chưa đầy).\n",
    "    Duyệt theo cột: nếu ô trên cùng (row 0) == 0 => cột còn chỗ.\n",
    "    \"\"\"\n",
    "    rows, cols = state.shape\n",
    "    actions = [c for c in range(cols) if state[0, c] == 0]\n",
    "    return actions\n",
    "\n",
    "def result(state: np.ndarray, player: int, action: int) -> np.ndarray:\n",
    "    \"\"\"Trả về bản sao mới của state sau khi player thả đĩa vào cột action.\n",
    "    Nếu action không hợp lệ, ném ValueError.\n",
    "    \"\"\"\n",
    "    if action not in valid_actions(state):\n",
    "        raise ValueError(f'Invalid action {action} for state')\n",
    "    new_state = state.copy()\n",
    "    rows, cols = state.shape\n",
    "    # tìm hàng thấp nhất (lớn nhất index) có giá trị 0 trong cột action\n",
    "    for r in range(rows-1, -1, -1):\n",
    "        if new_state[r, action] == 0:\n",
    "            new_state[r, action] = player\n",
    "            break\n",
    "    return new_state\n",
    "\n",
    "def _check_four_in_a_row(arr: List[int], player: int) -> bool:\n",
    "    \"\"\"Helper: kiểm tra chuỗi con độ dài 4 của cùng màu trong list 1D.\n",
    "    \"\"\"\n",
    "    count = 0\n",
    "    for v in arr:\n",
    "        if v == player:\n",
    "            count += 1\n",
    "            if count >= 4:\n",
    "                return True\n",
    "        else:\n",
    "            count = 0\n",
    "    return False\n",
    "\n",
    "def terminal(state: np.ndarray) -> Tuple[bool, int]:\n",
    "    \"\"\"Trả về (is_terminal, winner).\n",
    "    Nếu trò chơi đã kết thúc trả về (True, winner) với winner ∈ {1, -1, 0}.\n",
    "    Nếu chưa kết thúc trả về (False, 0).\n",
    "    \"\"\"\n",
    "    winner = 0  # 0 if no winner yet, 1 or -1 indicate player who won\n",
    "    rows, cols = state.shape\n",
    "    # kiểm tra hàng ngang\n",
    "    for r in range(rows):\n",
    "        if _check_four_in_a_row(list(state[r, :]), 1):\n",
    "            return True, 1\n",
    "        if _check_four_in_a_row(list(state[r, :]), -1):\n",
    "            return True, -1\n",
    "    # kiểm tra cột dọc\n",
    "    for c in range(cols):\n",
    "        col_vals = [state[r, c] for r in range(rows)]\n",
    "        if _check_four_in_a_row(col_vals, 1):\n",
    "            return True, 1\n",
    "        if _check_four_in_a_row(col_vals, -1):\n",
    "            return True, -1\n",
    "    # kiểm tra đường chéo (\n",
    "    # các đường chéo có thể được trích xuất bằng cách cố định (r0,c0) và đi xuống phải\n",
    "    for r0 in range(rows):\n",
    "        for c0 in range(cols):\n",
    "            diag = []\n",
    "            r, c = r0, c0\n",
    "            while r < rows and c < cols:\n",
    "                diag.append(state[r, c])\n",
    "                r += 1\n",
    "                c += 1\n",
    "            if _check_four_in_a_row(diag, 1):\n",
    "                return True, 1\n",
    "            if _check_four_in_a_row(diag, -1):\n",
    "                return True, -1\n",
    "    # kiểm tra đường chéo (/)\n",
    "    for r0 in range(rows):\n",
    "        for c0 in range(cols):\n",
    "            diag = []\n",
    "            r, c = r0, c0\n",
    "            while r < rows and c >= 0:\n",
    "                diag.append(state[r, c])\n",
    "                r += 1\n",
    "                c -= 1\n",
    "            if _check_four_in_a_row(diag, 1):\n",
    "                return True, 1\n",
    "            if _check_four_in_a_row(diag, -1):\n",
    "                return True, -1\n",
    "    # nếu bảng đầy thì kết thúc hòa\n",
    "    if not any(state[0, c] == 0 for c in range(cols)):\n",
    "        return True, 0\n",
    "    return False, 0\n",
    "\n",
    "def utility(state: np.ndarray, player: int) -> int:\n",
    "    \"\"\"Trả về utility từ quan điểm của player: +1 nếu player thắng, -1 nếu thua, 0 khác.\n",
    "    \"\"\"\n",
    "    is_term, winner = terminal(state)\n",
    "    if not is_term:\n",
    "        return 0\n",
    "    if winner == 0:\n",
    "        return 0\n",
    "    return 1 if winner == player else -1"
   ]
  },
  {
   "cell_type": "markdown",
   "metadata": {},
   "source": [
    "How big is the state space? Give an estimate and explain it."
   ]
  },
  {
   "cell_type": "code",
   "execution_count": 10,
   "metadata": {},
   "outputs": [
    {
     "name": "stdout",
     "output_type": "stream",
     "text": [
      "Estimate: ~3^(rows*cols) upper bound (3^42 for 6x7) but actual reachable states far fewer due to gravity constraints\n"
     ]
    }
   ],
   "source": [
    "# Ước lượng kích thước không gian trạng thái cho Connect4:\n",
    "# Với bảng 6x7, mỗi ô có thể là -1, 0 hoặc 1, nên trên lý thuyết là 3^(6*7) trạng thái,\n",
    "# tức là 3^42 ≈ 1.5e20. Tuy nhiên nhiều trạng thái không thể xảy ra do tính chất rơi xuống của đĩa,\n",
    "# và còn phải xét quy trình chơi (lượt đi). Thực tế không gian trạng thái khả thi nhỏ hơn nhiều nhưng vẫn rất lớn.\n",
    "# Kết luận: trạng thái khả dĩ cực lớn (nghịch lý so với brute-force).\n",
    "print('Estimate: ~3^(rows*cols) upper bound (3^42 for 6x7) but actual reachable states far fewer due to gravity constraints')"
   ]
  },
  {
   "cell_type": "markdown",
   "metadata": {},
   "source": [
    "How big is the game tree that minimax search will go through? Give an estimate and explain it."
   ]
  },
  {
   "cell_type": "code",
   "execution_count": 11,
   "metadata": {},
   "outputs": [
    {
     "name": "stdout",
     "output_type": "stream",
     "text": [
      "Game-tree size approx b^d, e.g., 7^42 upper bound — infeasible for brute-force minimax\n"
     ]
    }
   ],
   "source": [
    "# Ước lượng kích thước cây trò chơi (game tree) cho minimax:\n",
    "# Nếu coi branching factor trung bình ≈ b và độ sâu tối đa của trò chơi ≈ d (số ô tối đa),\n",
    "# thì số node ~ b^d. Với bảng 6x7, b ≈ 7 lúc đầu và d ≤ 42, nên cây rất lớn (7^42 ≈ 1.6e35)\n",
    "# Vì vậy cần cắt tỉa (alpha-beta) và/hoặc giới hạn độ sâu + heuristic để thực hiện được trong thời gian hợp lý.\n",
    "print('Game-tree size approx b^d, e.g., 7^42 upper bound — infeasible for brute-force minimax')"
   ]
  },
  {
   "cell_type": "markdown",
   "metadata": {},
   "source": [
    "## Task 2: Game Environment and Random Agent [25 point]\n",
    "\n",
    "Use a numpy character array as the board."
   ]
  },
  {
   "cell_type": "code",
   "execution_count": 12,
   "metadata": {},
   "outputs": [
    {
     "name": "stdout",
     "output_type": "stream",
     "text": [
      "[[0 0 0 0 0 0 0]\n",
      " [0 0 0 0 0 0 0]\n",
      " [0 0 0 0 0 0 0]\n",
      " [0 0 0 0 0 0 0]\n",
      " [0 0 0 0 0 0 0]\n",
      " [0 0 0 0 0 0 0]]\n"
     ]
    }
   ],
   "source": [
    "import numpy as np\n",
    "# Demo nhỏ: dùng hàm empty_board đã được định nghĩa ở trên (rows, cols).\n",
    "# Tránh định nghĩa lại empty_board ở đây để không ghi đè signature mong muốn.\n",
    "print(empty_board())"
   ]
  },
  {
   "cell_type": "markdown",
   "metadata": {},
   "source": [
    "The standard board is $6 \\times 7$ but you can use smaller boards to test your code. Instead of colors (red and yellow), I use 1 and -1 to represent the players. Make sure that your agent functions all have the from: `agent_type(board, player = 1)`, where board is the current board position (in the format above) and player is the player whose next move it is and who the agent should play (as 1 and -1)."
   ]
  },
  {
   "cell_type": "code",
   "execution_count": 13,
   "metadata": {
    "tags": []
   },
   "outputs": [
    {
     "data": {
      "image/png": "[encoded data removed]",
      "text/plain": [
       "<Figure size 640x480 with 1 Axes>"
      ]
     },
     "metadata": {},
     "output_type": "display_data"
    }
   ],
   "source": [
    "# Visualization code by Randolph Rankin\n",
    "\n",
    "import matplotlib.pyplot as plt\n",
    "\n",
    "def visualize(board):\n",
    "    plt.axes()\n",
    "    rectangle=plt.Rectangle((-0.5,len(board)*-1+0.5),len(board[0]),len(board),fc='blue')\n",
    "    circles=[]\n",
    "    for i,row in enumerate(board):\n",
    "        for j,val in enumerate(row):\n",
    "            color='white' if val==0 else 'red' if val==1 else 'yellow'\n",
    "            circles.append(plt.Circle((j,i*-1),0.4,fc=color))\n",
    "\n",
    "    plt.gca().add_patch(rectangle)\n",
    "    for circle in circles:\n",
    "        plt.gca().add_patch(circle)\n",
    "\n",
    "    plt.axis('scaled')\n",
    "    plt.show()\n",
    "    \n",
    "board = [[0, 0, 0, 0, 0, 0, 0],\n",
    "         [0, 0, 0, 0, 0, 0, 0],\n",
    "         [0, 0, 0, 0, 0, 0, 0],\n",
    "         [0, 0, 0, 1, 0, 0, 0],\n",
    "         [0, 0, 0, 1, 0, 0, 0],\n",
    "         [0,-1,-1, 1,-1, 0, 0]]\n",
    "visualize(board)"
   ]
  },
  {
   "cell_type": "markdown",
   "metadata": {
    "tags": []
   },
   "source": [
    "Implement helper functions for:\n",
    "\n",
    "* A check for available actions in each state `actions(state)`.\n",
    "* The transition model `result(state, player, action)`.\n",
    "* Check for terminal states `terminal(state)`.\n",
    "* The utility function `utility(state, player)`.\n",
    "\n",
    "The player argument is used so your agent can play red or yellow.\n",
    "Make sure that all these functions work with boards of different sizes (number of columns and rows).\n",
    "You can follow the [tic-tac-toe example from class.](https://colab.research.google.com/github/mhahsler/CS7320-AI/blob/master/Games/tictactoe_definitions.ipynb)"
   ]
  },
  {
   "cell_type": "code",
   "execution_count": 14,
   "metadata": {},
   "outputs": [],
   "source": [
    "# Task 2: Helper functions và môi trường chơi cơ bản cho Connect4\n",
    "# Bao gồm: actions(state), result(state,player,action) đã cài ở trên (nhưng ta có thể thêm một lớp môi trường đơn giản).\n",
    "from typing import Callable, Tuple\n",
    "\n",
    "class Connect4Env:\n",
    "    \"\"\"Môi trường Connect4 đơn giản để dùng trong thử nghiệm: lưu trạng thái, cho phép chơi một bước và kiểm tra kết thúc.\n",
    "    \"\"\"\n",
    "    def __init__(self, rows: int = 6, cols: int = 7):\n",
    "        self.rows = rows\n",
    "        self.cols = cols\n",
    "        self.state = empty_board(rows, cols)\n",
    "        self.current_player = 1\n",
    "\n",
    "    def reset(self) -> np.ndarray:\n",
    "        self.state = empty_board(self.rows, self.cols)\n",
    "        self.current_player = 1\n",
    "        return self.state\n",
    "\n",
    "    def step(self, action: int) -> Tuple[np.ndarray, int, bool, dict]:\n",
    "        \"\"\"Thực hiện action cho current_player, trả về (state, reward, done, info).\n",
    "        Reward sử dụng hàm utility cho player vừa di chuyển.\n",
    "        \"\"\"\n",
    "        if action not in valid_actions(self.state):\n",
    "            raise ValueError('Invalid action')\n",
    "        self.state = result(self.state, self.current_player, action)\n",
    "        done, winner = terminal(self.state)\n",
    "        reward = 0\n",
    "        if done:\n",
    "            if winner == 0:\n",
    "                reward = 0\n",
    "            else:\n",
    "                reward = 1 if winner == self.current_player else -1\n",
    "        info = {'winner': winner}\n",
    "        # chuyển người chơi nếu trò chơi chưa kết thúc\n",
    "        if not done:\n",
    "            self.current_player *= -1\n",
    "        return self.state, reward, done, info\n",
    "\n",
    "    def legal_actions(self):\n",
    "        return valid_actions(self.state)\n",
    "\n",
    "# Hàm giúp chạy một trận giữa hai agent functions\n",
    "def play_game(agent1: Callable, agent2: Callable, env: Connect4Env, verbose: bool = False) -> int:\n",
    "    \"\"\"Cho hai agent (agent(board, player)) chơi trên env; trả về winner (1, -1 or 0 for draw).\n",
    "    Agent1 sẽ chơi player=1 (red) và agent2 chơi player=-1 (yellow).\n",
    "    \"\"\"\n",
    "    env.reset()\n",
    "    agents = {1: agent1, -1: agent2}\n",
    "    while True:\n",
    "        player = env.current_player\n",
    "        board = env.state\n",
    "        action = agents[player](board.copy(), player=player)\n",
    "        state, reward, done, info = env.step(action)\n",
    "        if verbose:\n",
    "            print(f'Player {player} -> action {action}, reward={reward}, done={done}')\n",
    "        if done:\n",
    "            return info.get('winner', 0)\n",
    "\n",
    "# Random agent implementation (signature required)\n",
    "import random\n",
    "def random_player(board: np.ndarray, player: int = 1) -> int:\n",
    "    \"\"\"Agent ngẫu nhiên: chọn một hành động hợp lệ ngẫu nhiên.\n",
    "    - board: numpy array trạng thái hiện tại\n",
    "    - player: 1 hoặc -1\n",
    "    Trả về: chỉ số cột (int) để đặt đĩa.\n",
    "    \"\"\"\n",
    "    actions = valid_actions(board)\n",
    "    if not actions:\n",
    "        raise ValueError('No legal actions available')\n",
    "    return random.choice(actions)"
   ]
  },
  {
   "cell_type": "markdown",
   "metadata": {},
   "source": [
    "Implement an agent that plays randomly. Make sure the agent function receives as the percept the board and returns a valid action. Use an agent function definition with the following signature (arguments):\n",
    "\n",
    "`def random_player(board, player = 1): ...`\n",
    "\n",
    "The argument `player` is used for agents that do not store what color they are playing. The value passed on by the environment should be 1 ot -1 for player red and yellow, respectively.  See [Experiments section for tic-tac-toe](https://nbviewer.org/github/mhahsler/CS7320-AI/blob/master/Games/tictactoe_and_or_tree_search.ipynb#Experiments) for an example."
   ]
  },
  {
   "cell_type": "code",
   "execution_count": 15,
   "metadata": {},
   "outputs": [],
   "source": [
    "# Ví dụ: cho 2 agent ngẫu nhiên chơi 1000 ván và đếm kết quả.\n",
    "def tournament_random_vs_random(n_games: int = 1000, rows: int = 6, cols: int = 7):\n",
    "    env = Connect4Env(rows, cols)\n",
    "    results = {1: 0, -1: 0, 0: 0}\n",
    "    for i in range(n_games):\n",
    "        winner = play_game(random_player, random_player, env, verbose=False)\n",
    "        results[winner] += 1\n",
    "    return results\n",
    "\n",
    "# Nếu bạn muốn chạy nhanh thử nghiệm nhỏ:\n",
    "# print(tournament_random_vs_random(100))"
   ]
  },
  {
   "cell_type": "markdown",
   "metadata": {},
   "source": [
    "Let two random agents play against each other 1000 times. Look at the [Experiments section for tic-tac-toe](https://nbviewer.org/github/mhahsler/CS7320-AI/blob/master/Games/tictactoe_and_or_tree_search.ipynb#Experiments) to see how the environment uses the agent functions to play against each other.\n",
    "\n",
    "How often does each player win? Is the result expected?"
   ]
  },
  {
   "cell_type": "code",
   "execution_count": 16,
   "metadata": {
    "tags": []
   },
   "outputs": [
    {
     "name": "stdout",
     "output_type": "stream",
     "text": [
      "Kết quả sau 1000 ván (1, -1, 0): {1: 561, -1: 435, 0: 4}\n"
     ]
    }
   ],
   "source": [
    "# Chạy giải đấu 1000 trận giữa hai agent ngẫu nhiên (Task 2 experiment).\n",
    "# Lưu ý: tùy vào hiệu năng, bạn có thể giảm số trận để chạy nhanh.\n",
    "results = tournament_random_vs_random(1000)\n",
    "print('Kết quả sau 1000 ván (1, -1, 0):', results)"
   ]
  },
  {
   "cell_type": "markdown",
   "metadata": {},
   "source": [
    "## Task 3: Minimax Search with Alpha-Beta Pruning\n",
    "\n",
    "### Implement the Search [20 points] \n",
    "\n",
    "Implement minimax search starting from a given board for specifying the player.\n",
    "\n",
    "__Important Notes:__ \n",
    "* You can use code from the [tic-tac-toe example](https://nbviewer.org/github/mhahsler/CS7320-AI/blob/master/Games/tictactoe_alpha_beta_tree_search.ipynb).\n",
    "* Make sure that all your agent functions have a signature consistent with the random agent above and that it [uses a class to store state information.](https://nbviewer.org/github/mhahsler/CS7320-AI/blob/master/HOWTOs/store_agent_state_information.ipynb)\n",
    "This is essential to be able play against agents from other students later.\n",
    "* The game tree for a $6 \\times 7$ board is huge and optimal algorithms need to visit each or a large percentage of all nodes in the tree. You can experiment with smaller boards like a $4 \\times 4$ board first."
   ]
  },
  {
   "cell_type": "code",
   "execution_count": null,
   "metadata": {},
   "outputs": [],
   "source": [
    "# Task 3: Minimax search with Alpha-Beta pruning\n",
    "# Implement minimax/alpha-beta as một hàm quyết định (minimax_decision) và một lớp agent lưu trạng thái để gọi như agent(board, player).\n",
    "import time\n",
    "from typing import Optional, Callable, List\n",
    "\n",
    "def minimax_decision(board: np.ndarray, player: int, max_depth: Optional[int] = None, order_actions_fn: Optional[Callable] = None, eval_fn: Optional[Callable] = None) -> int:\n",
    "    \"\"\"Trả về hành động tốt nhất cho player bằng Minimax + Alpha-Beta.\n",
    "    - board: numpy array trạng thái hiện tại\n",
    "    - player: người đang đi (1 hoặc -1)\n",
    "    - max_depth: nếu không None thì cắt ở độ sâu đó (depth tính theo số lượt từ root, root depth=0)\n",
    "    - order_actions_fn: hàm tùy chọn để sắp xếp hành động nhằm cải thiện pruning\n",
    "    - eval_fn: hàm heuristic(state, player) được gọi khi cắt (cutoff)\n",
    "    \"\"\"\n",
    "    nodes = 0\n",
    "    def max_value(state, alpha, beta, depth):\n",
    "        nonlocal nodes\n",
    "        nodes += 1\n",
    "        is_term, winner = terminal(state)\n",
    "        if is_term:\n",
    "            return utility(state, player)\n",
    "        if max_depth is not None and depth >= max_depth:\n",
    "            return eval_fn(state, player) if eval_fn is not None else utility(state, player)\n",
    "        v = -float('inf')\n",
    "        actions = valid_actions(state)\n",
    "        if order_actions_fn is not None:\n",
    "            actions = order_actions_fn(state, player, actions)\n",
    "        for a in actions:\n",
    "            v = max(v, min_value(result(state, player, a), alpha, beta, depth+1))\n",
    "            alpha = max(alpha, v)\n",
    "            if alpha >= beta:\n",
    "                break\n",
    "        return v\n",
    "\n",
    "    def min_value(state, alpha, beta, depth):\n",
    "        nonlocal nodes\n",
    "        nodes += 1\n",
    "        is_term, winner = terminal(state)\n",
    "        if is_term:\n",
    "            return utility(state, player)\n",
    "        if max_depth is not None and depth >= max_depth:\n",
    "            return eval_fn(state, -player) if eval_fn is not None else utility(state, player)\n",
    "        v = float('inf')\n",
    "        actions = valid_actions(state)\n",
    "        if order_actions_fn is not None:\n",
    "            actions = order_actions_fn(state, -player, actions)\n",
    "        for a in actions:\n",
    "            v = min(v, max_value(result(state, -player, a), alpha, beta, depth+1))\n",
    "            beta = min(beta, v)\n",
    "            if alpha >= beta:\n",
    "                break\n",
    "        return v\n",
    "\n",
    "    best_action = None\n",
    "    best_val = -float('inf')\n",
    "    start = time.perf_counter()\n",
    "    actions = valid_actions(board)\n",
    "    if order_actions_fn is not None:\n",
    "        actions = order_actions_fn(board, player, actions)\n",
    "    for a in actions:\n",
    "        v = min_value(result(board, player, a), -float('inf'), float('inf'), 1)\n",
    "        if v > best_val:\n",
    "            best_val = v\n",
    "            best_action = a\n",
    "    elapsed = time.perf_counter() - start\n",
    "    return best_action\n",
    "\n",
    "class MinimaxAgent:\n",
    "    \"\"\"Agent dựa trên Minimax + Alpha-Beta. Có thể cấu hình độ sâu cắt, strategy sắp xếp hành động và heuristic eval_fn.\n",
    "    Gọi như: agent(board, player) để phù hợp với môi trường.\n",
    "    \"\"\"\n",
    "    def __init__(self, max_depth: Optional[int] = None, order_actions_fn: Optional[Callable] = None, eval_fn: Optional[Callable] = None):\n",
    "        self.max_depth = max_depth\n",
    "        self.order_actions_fn = order_actions_fn\n",
    "        self.eval_fn = eval_fn\n",
    "\n",
    "    def __call__(self, board: np.ndarray, player: int = 1) -> int:\n",
    "        return minimax_decision(board, player, max_depth=self.max_depth, order_actions_fn=self.order_actions_fn, eval_fn=self.eval_fn)"
   ]
  },
  {
   "cell_type": "markdown",
   "metadata": {},
   "source": [
    "Experiment with some manually created boards (at least 5) to check if the agent spots winning opportunities."
   ]
  },
  {
   "cell_type": "code",
   "execution_count": 18,
   "metadata": {},
   "outputs": [
    {
     "data": {
      "image/png": "[encoded data removed]",
      "text/plain": [
       "<Figure size 640x480 with 1 Axes>"
      ]
     },
     "metadata": {},
     "output_type": "display_data"
    },
    {
     "name": "stdout",
     "output_type": "stream",
     "text": [
      "Minimax chọn cột: 3\n"
     ]
    }
   ],
   "source": [
    "# Task 3 experiments: kiểm tra một vài board mẫu để xem agent có phát hiện nước thắng ngay lập tức hay không.\n",
    "# Tạo board mẫu: ví dụ một board nơi player=1 có thể thắng bằng cách thả vào cột cụ thể.\n",
    "# Lưu ý: index cột bắt đầu từ 0.\n",
    "# Board mẫu: 6x7 với vài quân đã nằm sẵn\n",
    "board = empty_board(6,7)\n",
    "# đặt một tình huống nơi player 1 có 3 nối và cần 1 để thắng ngang\n",
    "board[5,0] = 1\n",
    "board[5,1] = 1\n",
    "board[5,2] = 1\n",
    "# bảo đảm cột 3 trống ở đáy để thắng\n",
    "visualize(board)\n",
    "agent = MinimaxAgent(max_depth=4)  # depth nhỏ ban đầu để chạy nhanh\n",
    "best = agent(board, player=1)\n",
    "print('Minimax chọn cột:', best)"
   ]
  },
  {
   "cell_type": "markdown",
   "metadata": {},
   "source": [
    "How long does it take to make a move? Start with a smaller board with 4 columns and make the board larger by adding columns/rows. Explain why using this algorithm on a standard $6 \\times 7$ board is not feasible."
   ]
  },
  {
   "cell_type": "code",
   "execution_count": 19,
   "metadata": {},
   "outputs": [
    {
     "name": "stdout",
     "output_type": "stream",
     "text": [
      "plain: 1 time: 0.11823850002838299\n",
      "ordered: 3 time: 0.019431900000199676\n"
     ]
    }
   ],
   "source": [
    "# Move ordering và đo thời gian thực hiện nước đi\n",
    "import time\n",
    "\n",
    "def center_first_order(state, player, actions):\n",
    "    # ưu tiên các cột gần giữa bảng (thường tốt cho Connect4)\n",
    "    cols = state.shape[1]\n",
    "    center = (cols - 1) / 2.0\n",
    "    return sorted(actions, key=lambda a: abs(a - center))\n",
    "\n",
    "def time_agent_move(agent_fn, board, player=1):\n",
    "    start = time.perf_counter()\n",
    "    a = agent_fn(board, player=player)\n",
    "    elapsed = time.perf_counter() - start\n",
    "    return a, elapsed\n",
    "\n",
    "# Tạo board phức tạp hơn để thử nghiệm thời gian\n",
    "test_board = empty_board(6,7)\n",
    "# làm đầy một vài cột để tăng branching\n",
    "for c in [0,1,2,4,5]:\n",
    "    for r in range(3):\n",
    "        test_board[5-r, c] = 1 if r % 2 == 0 else -1\n",
    "\n",
    "# Agent không dùng ordering\n",
    "agent_plain = MinimaxAgent(max_depth=4, order_actions_fn=None)\n",
    "a1, t1 = time_agent_move(agent_plain, test_board, player=1)\n",
    "# Agent dùng ordering trung tâm\n",
    "agent_ordered = MinimaxAgent(max_depth=4, order_actions_fn=center_first_order)\n",
    "a2, t2 = time_agent_move(agent_ordered, test_board, player=1)\n",
    "print('plain:', a1, 'time:', t1)\n",
    "print('ordered:', a2, 'time:', t2)"
   ]
  },
  {
   "cell_type": "markdown",
   "metadata": {},
   "source": [
    "### Move ordering [5 points]\n",
    "\n",
    "Starting the search with better moves will increase the efficiency of alpha-beta pruning. Describe and implement a simple move ordering strategy. Make a table that shows how the ordering strategies influence the time it takes to make a move?"
   ]
  },
  {
   "cell_type": "code",
   "execution_count": 20,
   "metadata": {},
   "outputs": [
    {
     "name": "stdout",
     "output_type": "stream",
     "text": [
      "depth, time_plain, time_ordered\n",
      "(2, 0.01076380000449717, 0.009926199971232563)\n",
      "(3, 0.034808100026566535, 0.015500899986363947)\n"
     ]
    }
   ],
   "source": [
    "# Move-ordering: so sánh thời gian thực thi với/không có ordering trên các độ sâu khác nhau\n",
    "import time\n",
    "def measure_ordering(board, player, depths=(2,3,4)):\n",
    "    results = []\n",
    "    for d in depths:\n",
    "        a_plain, t_plain = None, None\n",
    "        a_ord, t_ord = None, None\n",
    "        agent_plain = MinimaxAgent(max_depth=d, order_actions_fn=None)\n",
    "        agent_ord = MinimaxAgent(max_depth=d, order_actions_fn=center_first_order)\n",
    "        start = time.perf_counter(); a_plain = agent_plain(board, player=player); t_plain = time.perf_counter()-start\n",
    "        start = time.perf_counter(); a_ord = agent_ord(board, player=player); t_ord = time.perf_counter()-start\n",
    "        results.append((d, t_plain, t_ord))\n",
    "    return results\n",
    "\n",
    "# Thử trên một board thử nghiệm (đã tạo ở ô trước là test_board)\n",
    "res = measure_ordering(test_board, player=1, depths=(2,3))\n",
    "print('depth, time_plain, time_ordered')\n",
    "for row in res:\n",
    "    print(row)"
   ]
  },
  {
   "cell_type": "markdown",
   "metadata": {},
   "source": [
    "### The first few moves [5 points]\n",
    "\n",
    "Start with an empty board. This is the worst case scenario for minimax search since it needs solve all possible games that can be played (minus some pruning) before making the decision. What can you do? "
   ]
  },
  {
   "cell_type": "code",
   "execution_count": 21,
   "metadata": {},
   "outputs": [
    {
     "name": "stdout",
     "output_type": "stream",
     "text": [
      "Opening pick (center-preference): 3\n"
     ]
    }
   ],
   "source": [
    "# The first few moves: đề xuất chính sách mở đầu đơn giản và hiện thực hóa nó.\n",
    "# Gợi ý: ở Connect4, các cột giữa thường mạnh hơn; ta có thể dùng heuristic opening: chọn cột giữa nếu có thể.\n",
    "def opening_policy(board: np.ndarray, player: int = 1) -> int:\n",
    "    cols = board.shape[1]\n",
    "    center = cols // 2\n",
    "    actions = valid_actions(board)\n",
    "    if center in actions:\n",
    "        return center\n",
    "    # nếu không có giữa, chọn cột gần giữa nhất\n",
    "    actions_sorted = sorted(actions, key=lambda a: abs(a - center))\n",
    "    return actions_sorted[0]\n",
    "\n",
    "# Ví dụ: mở đầu trên bảng rỗng 6x7\n",
    "b = empty_board(6,7)\n",
    "print('Opening pick (center-preference):', opening_policy(b, player=1))"
   ]
  },
  {
   "cell_type": "markdown",
   "metadata": {},
   "source": [
    "### Playtime [5 points]\n",
    "\n",
    "Let the Minimax Search agent play a random agent on a $4 \\times 4$ board. Analyze wins, losses and draws."
   ]
  },
  {
   "cell_type": "code",
   "execution_count": 22,
   "metadata": {},
   "outputs": [
    {
     "name": "stdout",
     "output_type": "stream",
     "text": [
      "{1: 8, -1: 0, 0: 2}\n"
     ]
    }
   ],
   "source": [
    "# Playtime: cho Minimax (depth-limited) chơi với Random trên board nhỏ 4x4\n",
    "def play_minimax_vs_random(n_games: int = 10, rows: int = 4, cols: int = 4, depth: int = 4):\n",
    "    env = Connect4Env(rows, cols)\n",
    "    mm_agent = MinimaxAgent(max_depth=depth, order_actions_fn=None)\n",
    "    results = {1: 0, -1: 0, 0: 0}\n",
    "    for i in range(n_games):\n",
    "        winner = play_game(mm_agent, random_player, env, verbose=False)\n",
    "        results[winner] += 1\n",
    "    return results\n",
    "\n",
    "print(play_minimax_vs_random(10, 4, 4, depth=4))"
   ]
  },
  {
   "cell_type": "markdown",
   "metadata": {},
   "source": [
    "## Task 4: Heuristic Alpha-Beta Tree Search\n",
    "\n",
    "### Heuristic evaluation function [15 points]\n",
    "\n",
    "Define and implement a heuristic evaluation function. Make sure that the heuristic value stays in the correct range."
   ]
  },
  {
   "cell_type": "code",
   "execution_count": 23,
   "metadata": {},
   "outputs": [],
   "source": [
    "# Task 4: Heuristic evaluation function (window-based, stronger)\n",
    "def heuristic_eval(state: np.ndarray, player: int) -> float:\n",
    "    \"\"\"Window-based heuristic: quét mọi cửa sổ độ dài 4 (hàng, cột, 2 đường chéo).\n",
    "    Trả điểm cho patterns: 4-in-row (very large), open-3, closed-3, open-2; cộng bonus trung tâm.\n",
    "    Kết quả chuẩn hóa về [-1,1].\n",
    "    \"\"\"\n",
    "    rows, cols = state.shape\n",
    "    def windows_of_length_4(s):\n",
    "        # rows\n",
    "        for r in range(rows):\n",
    "            for c in range(cols - 4 + 1):\n",
    "                yield [s[r, c+i] for i in range(4)]\n",
    "        # cols\n",
    "        for c in range(cols):\n",
    "            for r in range(rows - 4 + 1):\n",
    "                yield [s[r+i, c] for i in range(4)]\n",
    "        # diag \\ (down-right)\n",
    "        for r in range(rows - 4 + 1):\n",
    "            for c in range(cols - 4 + 1):\n",
    "                yield [s[r+i, c+i] for i in range(4)]\n",
    "        # anti-diag / (down-left)\n",
    "        for r in range(rows - 4 + 1):\n",
    "            for c in range(3, cols):\n",
    "                yield [s[r+i, c-i] for i in range(4)]\n",
    "    # weights\n",
    "    W4 = 1000.0\n",
    "    W_open3 = 50.0\n",
    "    W_3 = 10.0\n",
    "    W_open2 = 3.0\n",
    "    W_center = 1.0\n",
    "    score = 0.0\n",
    "    def eval_window(win, p):\n",
    "        cnt_p = sum(1 for x in win if x == p)\n",
    "        cnt_opp = sum(1 for x in win if x == -p)\n",
    "        if cnt_p == 4: return W4\n",
    "        if cnt_opp == 4: return -W4\n",
    "        if cnt_p == 3 and cnt_opp == 0: return W_open3\n",
    "        if cnt_opp == 3 and cnt_p == 0: return -W_open3\n",
    "        if cnt_p == 2 and cnt_opp == 0: return W_open2\n",
    "        if cnt_opp == 2 and cnt_p == 0: return -W_open2\n",
    "        return 0.0\n",
    "    for win in windows_of_length_4(state):\n",
    "        score += eval_window(win, player)\n",
    "    # center control bonus\n",
    "    center_col = cols // 2\n",
    "    for r in range(rows):\n",
    "        if state[r, center_col] == player: score += W_center\n",
    "        elif state[r, center_col] == -player: score -= W_center\n",
    "    # normalize\n",
    "    approx_max = W4 + (W_open3 * 10) + (W_open2 * 20) + (W_center * rows)\n",
    "    val = max(-1.0, min(1.0, score / approx_max))\n",
    "    return val"
   ]
  },
  {
   "cell_type": "markdown",
   "metadata": {},
   "source": [
    "### Cutting Off Search [10 points]\n",
    "\n",
    "Modify your minimax search with alpha-beta pruning to cut off search at a specified depth and use the heuristic evaluation function. Experiment with different cutoff values."
   ]
  },
  {
   "cell_type": "code",
   "execution_count": 24,
   "metadata": {},
   "outputs": [],
   "source": [
    "# Cutting off search: sử dụng minimax_decision với eval_fn (không dùng monkey-patch)\n",
    "def minimax_with_cutoff(board: np.ndarray, player: int, cutoff_depth: int, order_actions_fn: Optional[Callable]=None) -> int:\n",
    "    \"\"\"Wrapper: gọi minimax_decision với eval_fn=heuristic_eval để cắt ở cutoff_depth.\n",
    "    Trả về action (int).\n",
    "    \"\"\"\n",
    "    return minimax_decision(board, player, max_depth=cutoff_depth, order_actions_fn=order_actions_fn, eval_fn=heuristic_eval)"
   ]
  },
  {
   "cell_type": "markdown",
   "metadata": {},
   "source": [
    "Experiment with the same manually created boards as above to check if the agent spots wining opportunities."
   ]
  },
  {
   "cell_type": "code",
   "execution_count": 25,
   "metadata": {},
   "outputs": [
    {
     "name": "stdout",
     "output_type": "stream",
     "text": [
      "center heuristic for player 1: 0.0006385696040868455\n",
      "h-almost heuristic for player 1: 0.03384418901660281\n"
     ]
    }
   ],
   "source": [
    "# Task 4 experiment: kiểm tra heuristic trên các board mẫu (tức là xem heuristic đánh giá như thế nào)\n",
    "samples = []\n",
    "# sample 1: center occupied by player 1\n",
    "s1 = empty_board(6,7)\n",
    "s1[5,3] = 1\n",
    "samples.append(('center', s1))\n",
    "# sample 2: near-win for player 1 horizontally\n",
    "s2 = empty_board(6,7)\n",
    "s2[5,0]=1; s2[5,1]=1; s2[5,2]=1\n",
    "samples.append(('h-almost', s2))\n",
    "for name, b in samples:\n",
    "    print(name, 'heuristic for player 1:', heuristic_eval(b, 1))"
   ]
  },
  {
   "cell_type": "markdown",
   "metadata": {},
   "source": [
    "How long does it take to make a move? Start with a smaller board with 4 columns and make the board larger by adding columns."
   ]
  },
  {
   "cell_type": "code",
   "execution_count": 26,
   "metadata": {},
   "outputs": [
    {
     "name": "stdout",
     "output_type": "stream",
     "text": [
      "size (4, 4) time 0.004078500031027943\n",
      "size (5, 5) time 0.011872900009620935\n",
      "size (6, 7) time 0.04363440000452101\n"
     ]
    }
   ],
   "source": [
    "# Task 4 timing: đo thời gian thực hiện nước đi trên các kích thước bảng khác nhau với cutoff depth cố định\n",
    "import time\n",
    "def measure_time_for_size(rows, cols, depth=4):\n",
    "    env = Connect4Env(rows, cols)\n",
    "    b = empty_board(rows, cols)\n",
    "    agent = MinimaxAgent(max_depth=depth, eval_fn=heuristic_eval)\n",
    "    start = time.perf_counter()\n",
    "    a = agent(b, player=1)\n",
    "    return time.perf_counter()-start\n",
    "for size in [(4,4),(5,5),(6,7)]:\n",
    "    t = measure_time_for_size(size[0], size[1], depth=3)\n",
    "    print('size', size, 'time', t)"
   ]
  },
  {
   "cell_type": "markdown",
   "metadata": {},
   "source": [
    "### Playtime [5 points]\n",
    "\n",
    "Let two heuristic search agents (different cutoff depth) compete against each other on a reasonably sized board. Since there is no randomness, you only need to let them play once."
   ]
  },
  {
   "cell_type": "code",
   "execution_count": 27,
   "metadata": {},
   "outputs": [
    {
     "name": "stdout",
     "output_type": "stream",
     "text": [
      "Winner (deep vs shallow): 1\n"
     ]
    }
   ],
   "source": [
    "# Let two heuristic search agents (different cutoff depth) play once on a 6x7 board\n",
    "env = Connect4Env(6,7)\n",
    "agent_deep = MinimaxAgent(max_depth=4, eval_fn=heuristic_eval)\n",
    "agent_shallow = MinimaxAgent(max_depth=2, eval_fn=heuristic_eval)\n",
    "winner = play_game(agent_deep, agent_shallow, env, verbose=False)\n",
    "print('Winner (deep vs shallow):', winner)"
   ]
  },
  {
   "cell_type": "markdown",
   "metadata": {},
   "source": [
    "## Challenge task [up to +10 bonus point will be awarded separately]\n",
    "\n",
    "Find another student and let your best agent play against the other student's best player. We will set up a class tournament on Canvas. This tournament will continue after the submission deadline."
   ]
  },
  {
   "cell_type": "markdown",
   "metadata": {},
   "source": [
    "## Graduate student advanced task: Pure Monte Carlo Search and Best First Move [10 point]\n",
    "\n",
    "__Undergraduate students:__ This is a bonus task you can attempt if you like [+5 bonus point].\n",
    "\n",
    "### Pure Monte Carlo Search\n",
    "\n",
    "Implement Pure Monte Carlo Search and investigate how this search performs on the test boards that you have used above. "
   ]
  },
  {
   "cell_type": "code",
   "execution_count": 28,
   "metadata": {},
   "outputs": [
    {
     "name": "stdout",
     "output_type": "stream",
     "text": [
      "PureMC pick: 2\n"
     ]
    }
   ],
   "source": [
    "# Pure Monte Carlo Search (graduate bonus):\n",
    "import random\n",
    "\n",
    "def rollout_random(b, player):\n",
    "    \"\"\"Thực hiện một rollout ngẫu nhiên từ trạng thái b; trả về winner.\"\"\"\n",
    "    env = Connect4Env(b.shape[0], b.shape[1])\n",
    "    env.state = b.copy()\n",
    "    env.current_player = player\n",
    "    while True:\n",
    "        actions = env.legal_actions()\n",
    "        if not actions:\n",
    "            # no legal actions -> draw\n",
    "            return 0\n",
    "        a = random.choice(actions)\n",
    "        state, reward, done, info = env.step(a)\n",
    "        if done:\n",
    "            return info.get('winner', 0)\n",
    "    # fallback (shouldn't reach)\n",
    "    return 0\n",
    "\n",
    "def pure_monte_carlo(b, player, n_trials=200):\n",
    "    # trả về action có tỉ lệ thắng cao nhất khi thực hiện n_trials rollout cho mỗi action\n",
    "    actions = valid_actions(b)\n",
    "    if not actions:\n",
    "        return None\n",
    "    scores = {a: 0 for a in actions}\n",
    "    for a in actions:\n",
    "        for t in range(n_trials):\n",
    "            newb = result(b, player, a)\n",
    "            winner = rollout_random(newb, -player)\n",
    "            if winner == player:\n",
    "                scores[a] += 1\n",
    "    # pick argmax (break ties randomly)\n",
    "    max_score = max(scores.values())\n",
    "    best_actions = [a for a, s in scores.items() if s == max_score]\n",
    "    return random.choice(best_actions)\n",
    "\n",
    "# quick test on a small board:\n",
    "b = empty_board(4,4)\n",
    "print('PureMC pick:', pure_monte_carlo(b, 1, n_trials=50))"
   ]
  },
  {
   "cell_type": "markdown",
   "metadata": {},
   "source": [
    "### Best First Move\n",
    "\n",
    "Use your Monte Carlo Search to determine what the best first move for red is? Describe under what assumptions this is the \"best\" first move.  "
   ]
  },
  {
   "cell_type": "code",
   "execution_count": 29,
   "metadata": {},
   "outputs": [
    {
     "name": "stdout",
     "output_type": "stream",
     "text": [
      "Best first move by Pure Monte Carlo (approx): 3\n"
     ]
    }
   ],
   "source": [
    "# Best First Move using Monte Carlo: chạy pure_monte_carlo cho board rỗng và thống kê các lựa chọn\n",
    "b = empty_board(6,7)\n",
    "best_move = pure_monte_carlo(b, 1, n_trials=200)\n",
    "print('Best first move by Pure Monte Carlo (approx):', best_move)\n",
    "# Lưu ý: kết quả phụ thuộc vào số trials; nhiều trials -> ổn định hơn."
   ]
  }
 ],
 "metadata": {
  "kernelspec": {
   "display_name": "Python 3",
   "language": "python",
   "name": "python3"
  },
  "language_info": {
   "codemirror_mode": {
    "name": "ipython",
    "version": 3
   },
   "file_extension": ".py",
   "mimetype": "text/x-python",
   "name": "python",
   "nbconvert_exporter": "python",
   "pygments_lexer": "ipython3",
   "version": "3.13.7"
  }
 },
 "nbformat": 4,
 "nbformat_minor": 4
}
